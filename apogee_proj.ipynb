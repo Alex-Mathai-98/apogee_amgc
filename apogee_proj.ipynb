{
 "cells": [
  {
   "cell_type": "code",
   "execution_count": 31,
   "metadata": {
    "collapsed": false
   },
   "outputs": [],
   "source": [
    "# Importing all the libraries needed\n",
    "import numpy as np\n",
    "import pandas as pd\n",
    "import scipy \n",
    "import matplotlib as mplt\n",
    "import os\n",
    "from pydub import AudioSegment\n",
    "from python_speech_features import mfcc, logfbank, ssc\n",
    "import scipy.io.wavfile as wav\n",
    "from sklearn.model_selection import train_test_split\n",
    "\n",
    "from sklearn.preprocessing import StandardScaler\n",
    "from sklearn.decomposition import PCA"
   ]
  },
  {
   "cell_type": "code",
   "execution_count": 5,
   "metadata": {
    "collapsed": true
   },
   "outputs": [],
   "source": [
    "# Some variable and path initializations\n",
    "os.chdir(\"/home/aayush/Apogee_project/apogee_amgc/genres1\")\n",
    "ori_folder_flag = 1\n",
    "song_no = 0\n",
    "df = pd.DataFrame(columns=['mfcc_feat','fbank_feat','ssc','classification'],index=range(0,1000))"
   ]
  },
  {
   "cell_type": "code",
   "execution_count": 6,
   "metadata": {
    "collapsed": true
   },
   "outputs": [],
   "source": [
    "# Getting all the genres\n",
    "l = []\n",
    "for dirpaths,dirnames,filenames in os.walk(os.getcwd()):\n",
    "    l.append(dirnames)"
   ]
  },
  {
   "cell_type": "code",
   "execution_count": 7,
   "metadata": {
    "collapsed": true
   },
   "outputs": [],
   "source": [
    "# Extracting Features of the songs\n",
    "\n",
    "for i in l[0]:\n",
    "    #for genre in genres1\n",
    "    for x in range(100):\n",
    "        # for song in batch of songs\n",
    "        \n",
    "        # Extracting the features\n",
    "        (rate,sig) = wav.read(i+'/'+i+'.000'+\"%02d\"%x+'.wav')\n",
    "        mfcc_feat = mfcc(sig,rate,nfft=551)\n",
    "        fbank_feat = logfbank(sig,rate,nfft=551)\n",
    "        sig_temp = np.reshape(sig, (sig.shape[0],1))\n",
    "        ssc_var = ssc(sig_temp,rate,nfft=551)\n",
    "        \n",
    "        #Adding features to the pandas dataframe\n",
    "        df.iloc[song_no][0] = mfcc_feat[0:2992,:]\n",
    "        df.iloc[song_no][1] = fbank_feat[0:2992,:]\n",
    "        df.iloc[song_no][2] = ssc_var[0:2992,:]\n",
    "        df.iloc[song_no][3] = i\n",
    "        \n",
    "        # Incrementing the song number\n",
    "        song_no+=1\n",
    "        \n",
    "    "
   ]
  },
  {
   "cell_type": "code",
   "execution_count": 46,
   "metadata": {
    "collapsed": false
   },
   "outputs": [
    {
     "name": "stdout",
     "output_type": "stream",
     "text": [
      "(800, 3)\n",
      "(2992, 13)\n",
      "(2992, 26)\n",
      "(2992, 26)\n",
      "(2992, 65)\n"
     ]
    }
   ],
   "source": [
    "train, test = train_test_split(df, test_size=0.2)\n",
    "\n",
    "train_values = train.loc[:,features].values\n",
    "\n",
    "\n",
    "# t = StandardScaler().fit_transform(train_values[0])\n",
    "print(train_values[0,0].shape)\n",
    "print(train_values[0,1].shape)\n",
    "print(train_values[0,2].shape)\n",
    "t = np.concatenate( (train_values[0,0],train_values[0,1],train_values[0,2]), axis = 1)\n",
    "print(t.shape)"
   ]
  },
  {
   "cell_type": "code",
   "execution_count": 37,
   "metadata": {
    "collapsed": false
   },
   "outputs": [
    {
     "ename": "AttributeError",
     "evalue": "'numpy.ndarray' object has no attribute 'iloc'",
     "output_type": "error",
     "traceback": [
      "\u001b[0;31m---------------------------------------------------------------------------\u001b[0m",
      "\u001b[0;31mAttributeError\u001b[0m                            Traceback (most recent call last)",
      "\u001b[0;32m<ipython-input-37-1d9454602f29>\u001b[0m in \u001b[0;36m<module>\u001b[0;34m()\u001b[0m\n\u001b[1;32m      5\u001b[0m \u001b[0;34m\u001b[0m\u001b[0m\n\u001b[1;32m      6\u001b[0m \u001b[0;32mfor\u001b[0m \u001b[0mi\u001b[0m \u001b[0;32min\u001b[0m \u001b[0mrange\u001b[0m\u001b[0;34m(\u001b[0m\u001b[0;36m3\u001b[0m\u001b[0;34m)\u001b[0m\u001b[0;34m:\u001b[0m\u001b[0;34m\u001b[0m\u001b[0m\n\u001b[0;32m----> 7\u001b[0;31m     \u001b[0mt\u001b[0m \u001b[0;34m=\u001b[0m \u001b[0mStandardScaler\u001b[0m\u001b[0;34m(\u001b[0m\u001b[0;34m)\u001b[0m\u001b[0;34m.\u001b[0m\u001b[0mfit_transform\u001b[0m\u001b[0;34m(\u001b[0m\u001b[0mtrain_values\u001b[0m\u001b[0;34m.\u001b[0m\u001b[0miloc\u001b[0m\u001b[0;34m[\u001b[0m\u001b[0;36m0\u001b[0m\u001b[0;34m]\u001b[0m\u001b[0;34m)\u001b[0m\u001b[0;34m\u001b[0m\u001b[0m\n\u001b[0m\u001b[1;32m      8\u001b[0m \u001b[0;34m\u001b[0m\u001b[0m\n\u001b[1;32m      9\u001b[0m \u001b[0mtrain_normalized\u001b[0m \u001b[0;34m=\u001b[0m \u001b[0mStandardScaler\u001b[0m\u001b[0;34m(\u001b[0m\u001b[0;34m)\u001b[0m\u001b[0;34m.\u001b[0m\u001b[0mfit_transform\u001b[0m\u001b[0;34m(\u001b[0m\u001b[0mtrain_values\u001b[0m\u001b[0;34m)\u001b[0m\u001b[0;34m\u001b[0m\u001b[0m\n",
      "\u001b[0;31mAttributeError\u001b[0m: 'numpy.ndarray' object has no attribute 'iloc'"
     ]
    }
   ],
   "source": [
    "features = ['mfcc_feat','fbank_feat','ssc']\n",
    "\n",
    "#Separating out the features, fitting and tranforming the train and test data\n",
    "train_values = train.loc[:,features].values # returns an array from the dataframe\n",
    "\n",
    "for i in range(3):\n",
    "    t = StandardScaler().fit_transform(train_values[0])\n",
    "\n",
    "train_normalized = StandardScaler().fit_transform(train_values)\n",
    "\n",
    "# Transforming with the same scale for test values\n",
    "test_values = train.loc[:,features].values\n",
    "test_normalized = StandardScaler().transform(test_values)\n",
    "\n",
    "#Separating out the target\n",
    "train_classification = train.iloc[:,['classification']].values\n",
    "test_classification = test.iloc[:,['classification']].values\n",
    "\n",
    "# Number of components is 8\n",
    "pca = PCA( n_components = 8) \n",
    "\n",
    "principal_components_train = pca.fit_transform(train_normalized)\n",
    "principal_components_test = pca.fit_transform(test_normalized)\n",
    "\n",
    "pca_train_temp = pd.Dataframe(data = principal_components_train, columns = ['pca1','pca2','pca3','pca4','pca5','pca6','pca7','pca8']) \n",
    "pca_test_temp = pd.Dataframe(data = principal_components_test,columns = ['pca1','pca2','pca3','pca4','pca5','pca6','pca7','pca8'])\n",
    "\n",
    "pca_train_df = pd.concat( [pca_train_temp,train_classification], axis = 1 )\n",
    "pca_test_df = pd.concat( [pca_test_temp,test_classification], axis = 1 )\n",
    "\n",
    "print(pca_train_df)\n",
    "print(pca_test_df)\n"
   ]
  },
  {
   "cell_type": "code",
   "execution_count": null,
   "metadata": {
    "collapsed": true
   },
   "outputs": [],
   "source": []
  },
  {
   "cell_type": "code",
   "execution_count": null,
   "metadata": {
    "collapsed": true
   },
   "outputs": [],
   "source": []
  }
 ],
 "metadata": {
  "kernelspec": {
   "display_name": "Python 2",
   "language": "python",
   "name": "python2"
  },
  "language_info": {
   "codemirror_mode": {
    "name": "ipython",
    "version": 2
   },
   "file_extension": ".py",
   "mimetype": "text/x-python",
   "name": "python",
   "nbconvert_exporter": "python",
   "pygments_lexer": "ipython2",
   "version": "2.7.13"
  }
 },
 "nbformat": 4,
 "nbformat_minor": 2
}
