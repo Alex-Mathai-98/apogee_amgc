{
 "cells": [
  {
   "cell_type": "code",
   "execution_count": null,
   "metadata": {
    "collapsed": true
   },
   "outputs": [],
   "source": [
    "# Importing the libraries\n",
    "import numpy as np\n",
    "import pandas as pd\n",
    "import sklearn\n",
    "from sklearn import metrics\n",
    "from sklearn.svm import SVC\n",
    "from sklearn.utils import shuffle\n",
    "from sklearn.preprocessing import StandardScaler"
   ]
  },
  {
   "cell_type": "code",
   "execution_count": null,
   "metadata": {
    "collapsed": true
   },
   "outputs": [],
   "source": [
    "x = pd.read_pickle(\"frame_features.pkl\")\n",
    "y = pd.read_pickle(\"frame_labels.pkl\")"
   ]
  },
  {
   "cell_type": "code",
   "execution_count": null,
   "metadata": {
    "collapsed": true
   },
   "outputs": [],
   "source": [
    "labels = {'blues': 0, 'classical': 1, 'country': 2, 'disco': 3, 'hiphop': 4, 'jazz': 5, 'metal': 6, 'pop': 7, 'reggae': 8, 'rock': 9}"
   ]
  },
  {
   "cell_type": "code",
   "execution_count": null,
   "metadata": {
    "collapsed": true
   },
   "outputs": [],
   "source": [
    "# Predicting array that contains the values\n",
    "predicted_values = np.zeros( (200,10) )\n",
    "\n",
    "for frame_number in range(0,2985):\n",
    "      \n",
    "    scaler = StandardScaler()\n",
    "    \n",
    "    frame = np.zeros( (1000,65) )\n",
    "    frame_y = np.zeros( (1000,1) )\n",
    "    \n",
    "    # Converting labels into numbers\n",
    "    for song in range(1000):\n",
    "        frame[song,:] = x.iloc[song*2985 + frame_number,:]\n",
    "        frame_y[song,0] = labels[y.iloc[song*2985 + frame_number,0]]\n",
    "    \n",
    "    # Refining the standardization\n",
    "    frame_new = scaler.fit_transform(frame)\n",
    "    \n",
    "    # Initializing, fitting and running the SVM classifier\n",
    "    clf = SVC(C=100,gamma=0.08, kernel='poly')\n",
    "    clf.fit(frame_new[:800,:],frame_y[:800,:].reshape(800,))\n",
    "    predicted = clf.predict(frame_new[800:,:])\n",
    "    \n",
    "    # Adding the classifications to the prediction array\n",
    "    for i in range(200):\n",
    "        predicted_values[i,int(predicted[i])] += 2*np.exp(-np.power(frame_number-1500,2)/np.power(1800,2))\n",
    "    pred = np.argmax(predicted_values, axis=1)\n",
    "    label = np.zeros((200,1))\n",
    "    \n",
    "    for i in range(200):\n",
    "        label[i,0] = d[y.iloc[2388000+i*2985,0]]\n",
    "    baseline = metrics.accuracy_score(pred, label.reshape(200,))\n",
    "    if frame_number%25==0:\n",
    "        print(str(frame_number)+\"-\"+str(baseline))"
   ]
  },
  {
   "cell_type": "code",
   "execution_count": null,
   "metadata": {
    "collapsed": true
   },
   "outputs": [],
   "source": [
    "# Soft Max Voting on all the frame predictions\n",
    "pred = np.argmax(predicted_values, axis=1)\n",
    "\n",
    "# Ground truth array\n",
    "truth = np.zeros((200,1))\n",
    "\n",
    "# Filling the values\n",
    "for i in range(200):\n",
    "    truth[i,0] = labels[y.iloc[2388000+i*2985,0]]\n",
    "\n",
    "# Calculating the accuracy\n",
    "baseline = metrics.accuracy_score(pred, label.reshape(200,))\n",
    "print(baseline)"
   ]
  }
 ],
 "metadata": {
  "kernelspec": {
   "display_name": "Python 3",
   "language": "python",
   "name": "python3"
  },
  "language_info": {
   "codemirror_mode": {
    "name": "ipython",
    "version": 3
   },
   "file_extension": ".py",
   "mimetype": "text/x-python",
   "name": "python",
   "nbconvert_exporter": "python",
   "pygments_lexer": "ipython3",
   "version": "3.6.1"
  }
 },
 "nbformat": 4,
 "nbformat_minor": 2
}
